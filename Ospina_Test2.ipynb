{
  "nbformat": 4,
  "nbformat_minor": 0,
  "metadata": {
    "colab": {
      "provenance": [],
      "toc_visible": true,
      "authorship_tag": "ABX9TyPUpptyyfpmgmV/K38Vf4f9",
      "include_colab_link": true
    },
    "kernelspec": {
      "name": "python3",
      "display_name": "Python 3"
    },
    "language_info": {
      "name": "python"
    }
  },
  "cells": [
    {
      "cell_type": "markdown",
      "metadata": {
        "id": "view-in-github",
        "colab_type": "text"
      },
      "source": [
        "<a href=\"https://colab.research.google.com/github/1Suspensive/Ejemplo1/blob/main/Ospina_Test2.ipynb\" target=\"_parent\"><img src=\"https://colab.research.google.com/assets/colab-badge.svg\" alt=\"Open In Colab\"/></a>"
      ]
    },
    {
      "cell_type": "markdown",
      "source": [
        "#Primer Ejercicio\n"
      ],
      "metadata": {
        "id": "F8A1DVQL4USn"
      }
    },
    {
      "cell_type": "code",
      "execution_count": 1,
      "metadata": {
        "colab": {
          "base_uri": "https://localhost:8080/"
        },
        "id": "ZWrntLjo1-id",
        "outputId": "3f2cb9fa-0181-4e3a-aeca-7672dfd41bb5"
      },
      "outputs": [
        {
          "output_type": "stream",
          "name": "stdout",
          "text": [
            "Hello world\n"
          ]
        }
      ],
      "source": [
        "print(\"\")"
      ]
    },
    {
      "cell_type": "markdown",
      "source": [
        "#Segundo Ejercicio\n"
      ],
      "metadata": {
        "id": "LGHMSUnn4YI3"
      }
    },
    {
      "cell_type": "code",
      "source": [
        "print(\"Hola, Jeferson\")"
      ],
      "metadata": {
        "colab": {
          "base_uri": "https://localhost:8080/"
        },
        "id": "4kPUTZg14bWG",
        "outputId": "7be405c3-c837-4efb-f47d-97ef8db4011a"
      },
      "execution_count": 2,
      "outputs": [
        {
          "output_type": "stream",
          "name": "stdout",
          "text": [
            "Hola, Jeferson\n"
          ]
        }
      ]
    }
  ]
}